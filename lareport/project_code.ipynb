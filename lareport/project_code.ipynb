{
 "cells": [
  {
   "cell_type": "code",
   "execution_count": 32,
   "metadata": {},
   "outputs": [],
   "source": [
    "import pandas as pd\n",
    "import numpy as np\n",
    "\n",
    "from sklearn.metrics.pairwise import linear_kernel, cosine_similarity\n",
    "from sklearn.preprocessing import PolynomialFeatures\n",
    "\n",
    "from surprise import Reader, Dataset, SVD\n",
    "from surprise.model_selection import GridSearchCV\n",
    "from surprise import AlgoBase\n",
    "from surprise import Dataset\n",
    "from surprise import PredictionImpossible\n",
    "from surprise.model_selection import cross_validate\n",
    "\n",
    "from tqdm import tqdm_notebook as tqdm"
   ]
  },
  {
   "cell_type": "markdown",
   "metadata": {},
   "source": [
    "### Functions"
   ]
  },
  {
   "cell_type": "code",
   "execution_count": 33,
   "metadata": {},
   "outputs": [],
   "source": [
    "# compute sigmoid\n",
    "def sigmoid(x):\n",
    "    return 1 / (1 + np.exp(-x))\n",
    "\n",
    "# numerical way to compute gradient or jacobian of vector function\n",
    "h = 1e-6\n",
    "def gradient(f):\n",
    "    def grad_f(x):\n",
    "        if isinstance(x, list):\n",
    "            x = np.array(x)\n",
    "        I = np.eye(x.shape[0])\n",
    "        return np.array([(f(x + h * I_) - f(x - h * I_)) / (2.0 * h) for I_ in I])\n",
    "    return grad_f\n",
    "\n",
    "# preprocessed wrapper of the polynomial transform\n",
    "class PolinomialTransform:\n",
    "    def __init__(self, degree=10):\n",
    "        self.degree = degree\n",
    "        self.obj = PolynomialFeatures(degree=self.degree)\n",
    "        \n",
    "    def __call__(self, x):\n",
    "        return self.obj.fit_transform([x]).reshape(-1,)"
   ]
  },
  {
   "cell_type": "markdown",
   "metadata": {},
   "source": [
    "### Data loading"
   ]
  },
  {
   "cell_type": "code",
   "execution_count": 4,
   "metadata": {},
   "outputs": [],
   "source": [
    "links = pd.read_csv('data/small/links.csv')\n",
    "movies = pd.read_csv('data/small/movies.csv')\n",
    "ratings = pd.read_csv('data/small/ratings.csv')\n",
    "tags = pd.read_csv('data/small/tags.csv')"
   ]
  },
  {
   "cell_type": "markdown",
   "metadata": {},
   "source": [
    "### User-item matrix creation"
   ]
  },
  {
   "cell_type": "code",
   "execution_count": 5,
   "metadata": {},
   "outputs": [],
   "source": [
    "user_item = ratings.pivot(index='userId', columns='movieId', values='rating')"
   ]
  },
  {
   "cell_type": "markdown",
   "metadata": {},
   "source": [
    "### Data cleaning"
   ]
  },
  {
   "cell_type": "code",
   "execution_count": 6,
   "metadata": {},
   "outputs": [],
   "source": [
    "user_item = ratings.pivot(index='userId', columns='movieId', values='rating')"
   ]
  },
  {
   "cell_type": "code",
   "execution_count": 7,
   "metadata": {},
   "outputs": [
    {
     "name": "stdout",
     "output_type": "stream",
     "text": [
      "Exist 9742 unique films with 610 unique users rated these films.\n"
     ]
    }
   ],
   "source": [
    "print('Exist {x} unique films with {y} unique users rated these films.'.format(y=ratings.userId.unique().shape[0],\n",
    "                                                                              x=movies.movieId.unique().shape[0]))"
   ]
  },
  {
   "cell_type": "code",
   "execution_count": 8,
   "metadata": {},
   "outputs": [
    {
     "name": "stdout",
     "output_type": "stream",
     "text": [
      "Users did not rate 18 films, so we will delete it from user-item matrix, because we will have column with only NaNs.\n",
      "Each user ranked only a few films at all, so our matrix will have a lot of NaNs. User-item matrix has (610, 9724) dimension, hence 5931640 overall ratings. But 5830804 of them are empty, so we have 1.7% existed ratings.\n"
     ]
    }
   ],
   "source": [
    "rated_films_differences = len(set(movies.movieId.unique()) - set(user_item.columns))\n",
    "\n",
    "print('Users did not rate {x} films, so we will delete it from user-item matrix,\\\n",
    " because we will have column with only NaNs.'.format(x=rated_films_differences))\n",
    "\n",
    "print('Each user ranked only a few films at all, so our matrix will have a lot of NaNs. User-item matrix has {x} \\\n",
    "dimension, hence {y} overall ratings. But {z} of them are empty, so we have {t:.1f}% existed ratings.'\n",
    "      .format(x=user_item.shape,\n",
    "              y=user_item.shape[0] * user_item.shape[1],\n",
    "              z=user_item.isna().sum().sum(),\n",
    "              t=100 * (1 - user_item.isna().sum().sum() / (user_item.shape[0] * user_item.shape[1]))))"
   ]
  },
  {
   "cell_type": "markdown",
   "metadata": {},
   "source": [
    "### SVD"
   ]
  },
  {
   "cell_type": "code",
   "execution_count": 9,
   "metadata": {},
   "outputs": [],
   "source": [
    "class VanillaSVD(AlgoBase):\n",
    "\n",
    "    def __init__(self, n_factors=10, n_epochs=10, lr=4e-3, reg_size=0.1):\n",
    "        AlgoBase.__init__(self)\n",
    "        \n",
    "        self.n_factors = n_factors\n",
    "        self.n_epochs = n_epochs\n",
    "        self.lr = lr\n",
    "        self.reg_size = reg_size\n",
    "        \n",
    "    def fit(self, trainset):\n",
    "        \n",
    "        AlgoBase.fit(self, trainset)\n",
    "        self.sgd(trainset)\n",
    "\n",
    "        return self\n",
    "        \n",
    "    def sgd(self, trainset):\n",
    "        \n",
    "        self.trainset = trainset\n",
    "        \n",
    "        self.p = np.random.normal(0.0, 0.1, (self.trainset.n_users, self.n_factors))\n",
    "        self.q = np.random.normal(0.0, 0.1, (self.trainset.n_items, self.n_factors))\n",
    "        \n",
    "        self.n_ratings = self.trainset.n_ratings\n",
    "        \n",
    "        for current_epoch in tqdm(range(self.n_epochs)):\n",
    "            \n",
    "            for u, i, r in self.trainset.all_ratings():\n",
    "                \n",
    "                error = r - self.p[u].dot(self.q[i])\n",
    "                    \n",
    "                self.p[u] += self.lr * (error * self.q[i] - self.reg_size * self.p[u])\n",
    "                self.q[i] += self.lr * (error * self.p[u] - self.reg_size * self.q[i])\n",
    "                    \n",
    "    def estimate(self, u, i):\n",
    "    \n",
    "        known_user = self.trainset.knows_user(u)\n",
    "        known_item = self.trainset.knows_item(i)\n",
    "        \n",
    "        if known_user and known_item:\n",
    "            return np.dot(self.p[u], self.q[i])\n",
    "        else:\n",
    "            raise PredictionImpossible('User or item are unknown')"
   ]
  },
  {
   "cell_type": "markdown",
   "metadata": {},
   "source": [
    "### Probabilistic Matrix Factorization"
   ]
  },
  {
   "cell_type": "code",
   "execution_count": 13,
   "metadata": {},
   "outputs": [],
   "source": [
    "class VanillaPMF(AlgoBase):\n",
    "\n",
    "    def __init__(self, n_factors=10, n_epochs=10, lr=4e-3, sigma_p=0.1, sigma_q=0.1):\n",
    "        AlgoBase.__init__(self)\n",
    "        \n",
    "        self.n_factors = n_factors\n",
    "        self.n_epochs = n_epochs\n",
    "        self.lr = lr\n",
    "        \n",
    "        self.sigma_p = sigma_p\n",
    "        self.sigma_q = sigma_q\n",
    "        \n",
    "        self.reg_size_p = 0.001 / self.sigma_p\n",
    "        self.reg_size_q = 0.001 / self.sigma_q\n",
    "        \n",
    "    def fit(self, trainset):\n",
    "        \n",
    "        AlgoBase.fit(self, trainset)\n",
    "        self.sgd(trainset)\n",
    "\n",
    "        return self\n",
    "        \n",
    "    def sgd(self, trainset):\n",
    "        \n",
    "        self.trainset = trainset\n",
    "        \n",
    "        self.p = np.random.normal(0.0, self.sigma_p, (self.trainset.n_users, self.n_factors))\n",
    "        self.q = np.random.normal(0.0, self.sigma_q, (self.trainset.n_items, self.n_factors))\n",
    "        \n",
    "        self.n_ratings = self.trainset.n_ratings\n",
    "        \n",
    "        for current_epoch in tqdm(range(self.n_epochs)):\n",
    "            \n",
    "            for u, i, r in self.trainset.all_ratings():\n",
    "                \n",
    "                scaled_r = (r - 1)/4\n",
    "                sigm = sigmoid(self.p[u].dot(self.q[i]))\n",
    "                error = scaled_r - sigm\n",
    "                    \n",
    "                self.p[u] += self.lr * (error * sigm * (1 - sigm) * self.q[i] - self.reg_size_p * self.p[u])\n",
    "                self.q[i] += self.lr * (error * sigm * (1 - sigm) * self.p[u] - self.reg_size_q * self.q[i])\n",
    "                    \n",
    "    def estimate(self, u, i):\n",
    "    \n",
    "        known_user = self.trainset.knows_user(u)\n",
    "        known_item = self.trainset.knows_item(i)\n",
    "        \n",
    "        if known_user and known_item:\n",
    "            return 1 + 4*sigmoid(np.dot(self.p[u], self.q[i]))\n",
    "        else:\n",
    "            raise PredictionImpossible('User or item are unknown')"
   ]
  },
  {
   "cell_type": "markdown",
   "metadata": {},
   "source": [
    "### Evaluation of ours own implementations"
   ]
  },
  {
   "cell_type": "code",
   "execution_count": 20,
   "metadata": {},
   "outputs": [],
   "source": [
    "# load data in specified format\n",
    "data = Dataset.load_builtin('ml-100k')\n",
    "\n",
    "# create an instance of PMF\n",
    "svd = VanillaSVD(n_factors=10, n_epochs=20, lr=0.005, reg_size=0.02)\n",
    "pmf = VanillaPMF(n_factors=10, n_epochs=1000, lr=0.005, sigma_p=0.1, sigma_q=0.1)"
   ]
  },
  {
   "cell_type": "code",
   "execution_count": 21,
   "metadata": {},
   "outputs": [
    {
     "data": {
      "application/vnd.jupyter.widget-view+json": {
       "model_id": "4224ae40b0514a1ca4b0da7d08451f1f",
       "version_major": 2,
       "version_minor": 0
      },
      "text/plain": [
       "HBox(children=(IntProgress(value=0, max=20), HTML(value='')))"
      ]
     },
     "metadata": {},
     "output_type": "display_data"
    },
    {
     "name": "stdout",
     "output_type": "stream",
     "text": [
      "\n"
     ]
    },
    {
     "data": {
      "application/vnd.jupyter.widget-view+json": {
       "model_id": "155def807f6e4645aca39c0bd2ca3fb7",
       "version_major": 2,
       "version_minor": 0
      },
      "text/plain": [
       "HBox(children=(IntProgress(value=0, max=20), HTML(value='')))"
      ]
     },
     "metadata": {},
     "output_type": "display_data"
    },
    {
     "name": "stdout",
     "output_type": "stream",
     "text": [
      "\n"
     ]
    },
    {
     "data": {
      "application/vnd.jupyter.widget-view+json": {
       "model_id": "034fbe7bf69a4efbb8cc00cf0729e7b6",
       "version_major": 2,
       "version_minor": 0
      },
      "text/plain": [
       "HBox(children=(IntProgress(value=0, max=20), HTML(value='')))"
      ]
     },
     "metadata": {},
     "output_type": "display_data"
    },
    {
     "name": "stdout",
     "output_type": "stream",
     "text": [
      "\n"
     ]
    },
    {
     "data": {
      "application/vnd.jupyter.widget-view+json": {
       "model_id": "c8ae4f2d656c4a44bfaa995e71c67433",
       "version_major": 2,
       "version_minor": 0
      },
      "text/plain": [
       "HBox(children=(IntProgress(value=0, max=20), HTML(value='')))"
      ]
     },
     "metadata": {},
     "output_type": "display_data"
    },
    {
     "name": "stdout",
     "output_type": "stream",
     "text": [
      "\n"
     ]
    },
    {
     "data": {
      "application/vnd.jupyter.widget-view+json": {
       "model_id": "2b954091f9174c51a70cfb6fe30ad9db",
       "version_major": 2,
       "version_minor": 0
      },
      "text/plain": [
       "HBox(children=(IntProgress(value=0, max=20), HTML(value='')))"
      ]
     },
     "metadata": {},
     "output_type": "display_data"
    },
    {
     "name": "stdout",
     "output_type": "stream",
     "text": [
      "\n",
      "Evaluating RMSE, MAE of algorithm VanillaSVD on 5 split(s).\n",
      "\n",
      "                  Fold 1  Fold 2  Fold 3  Fold 4  Fold 5  Mean    Std     \n",
      "RMSE (testset)    0.9412  0.9507  0.9379  0.9490  0.9494  0.9457  0.0051  \n",
      "MAE (testset)     0.7367  0.7487  0.7377  0.7449  0.7465  0.7429  0.0048  \n",
      "Fit time          26.61   26.69   27.23   33.51   26.14   28.03   2.76    \n",
      "Test time         0.24    0.18    0.17    0.23    0.16    0.20    0.03    \n"
     ]
    },
    {
     "data": {
      "text/plain": [
       "{'test_rmse': array([0.94122397, 0.95068277, 0.9379408 , 0.94900206, 0.94944782]),\n",
       " 'test_mae': array([0.73672358, 0.7486805 , 0.73774508, 0.74487183, 0.74646811]),\n",
       " 'fit_time': (26.60607933998108,\n",
       "  26.687235116958618,\n",
       "  27.234275817871094,\n",
       "  33.510265827178955,\n",
       "  26.135029077529907),\n",
       " 'test_time': (0.2411501407623291,\n",
       "  0.17968106269836426,\n",
       "  0.16622591018676758,\n",
       "  0.23294687271118164,\n",
       "  0.15787196159362793)}"
      ]
     },
     "execution_count": 21,
     "metadata": {},
     "output_type": "execute_result"
    }
   ],
   "source": [
    "# svd\n",
    "cross_validate(svd, data, verbose=True)"
   ]
  },
  {
   "cell_type": "code",
   "execution_count": 22,
   "metadata": {},
   "outputs": [
    {
     "data": {
      "application/vnd.jupyter.widget-view+json": {
       "model_id": "b6de1a18bb904c7e9554143c5f439b0e",
       "version_major": 2,
       "version_minor": 0
      },
      "text/plain": [
       "HBox(children=(IntProgress(value=0, max=1000), HTML(value='')))"
      ]
     },
     "metadata": {},
     "output_type": "display_data"
    },
    {
     "name": "stdout",
     "output_type": "stream",
     "text": [
      "\n"
     ]
    },
    {
     "data": {
      "application/vnd.jupyter.widget-view+json": {
       "model_id": "e3dcf6fc48ee4d918f217c7aee71dfd1",
       "version_major": 2,
       "version_minor": 0
      },
      "text/plain": [
       "HBox(children=(IntProgress(value=0, max=1000), HTML(value='')))"
      ]
     },
     "metadata": {},
     "output_type": "display_data"
    },
    {
     "name": "stdout",
     "output_type": "stream",
     "text": [
      "\n"
     ]
    },
    {
     "data": {
      "application/vnd.jupyter.widget-view+json": {
       "model_id": "93ade365222847b5bafd571577849af5",
       "version_major": 2,
       "version_minor": 0
      },
      "text/plain": [
       "HBox(children=(IntProgress(value=0, max=1000), HTML(value='')))"
      ]
     },
     "metadata": {},
     "output_type": "display_data"
    },
    {
     "name": "stdout",
     "output_type": "stream",
     "text": [
      "\n"
     ]
    },
    {
     "data": {
      "application/vnd.jupyter.widget-view+json": {
       "model_id": "c8d2ad40735343859c99b903d1bee701",
       "version_major": 2,
       "version_minor": 0
      },
      "text/plain": [
       "HBox(children=(IntProgress(value=0, max=1000), HTML(value='')))"
      ]
     },
     "metadata": {},
     "output_type": "display_data"
    },
    {
     "name": "stdout",
     "output_type": "stream",
     "text": [
      "\n"
     ]
    },
    {
     "data": {
      "application/vnd.jupyter.widget-view+json": {
       "model_id": "a8e364de657a436490b74c0a0e887efb",
       "version_major": 2,
       "version_minor": 0
      },
      "text/plain": [
       "HBox(children=(IntProgress(value=0, max=1000), HTML(value='')))"
      ]
     },
     "metadata": {},
     "output_type": "display_data"
    },
    {
     "name": "stdout",
     "output_type": "stream",
     "text": [
      "\n",
      "Evaluating RMSE, MAE of algorithm VanillaPMF on 5 split(s).\n",
      "\n",
      "                  Fold 1  Fold 2  Fold 3  Fold 4  Fold 5  Mean    Std     \n",
      "RMSE (testset)    0.9552  0.9620  0.9641  0.9592  0.9659  0.9613  0.0038  \n",
      "MAE (testset)     0.7742  0.7787  0.7819  0.7766  0.7796  0.7782  0.0026  \n",
      "Fit time          1275.56 1620.69 2797.37 1462.35 1272.56 1685.71 570.76  \n",
      "Test time         0.49    0.31    0.72    0.39    0.17    0.42    0.18    \n"
     ]
    },
    {
     "data": {
      "text/plain": [
       "{'test_rmse': array([0.95516462, 0.96204901, 0.96407844, 0.95920772, 0.96590861]),\n",
       " 'test_mae': array([0.7741997 , 0.77871775, 0.78185539, 0.77660587, 0.77962201]),\n",
       " 'fit_time': (1275.5576498508453,\n",
       "  1620.6908457279205,\n",
       "  2797.3733971118927,\n",
       "  1462.3481562137604,\n",
       "  1272.560527086258),\n",
       " 'test_time': (0.4883239269256592,\n",
       "  0.3146672248840332,\n",
       "  0.7196810245513916,\n",
       "  0.3867766857147217,\n",
       "  0.17207813262939453)}"
      ]
     },
     "execution_count": 22,
     "metadata": {},
     "output_type": "execute_result"
    }
   ],
   "source": [
    "# pmf\n",
    "cross_validate(pmf, data, verbose=True)"
   ]
  },
  {
   "cell_type": "markdown",
   "metadata": {},
   "source": [
    "### Evaluation of implementations from Surprise"
   ]
  },
  {
   "cell_type": "code",
   "execution_count": 23,
   "metadata": {},
   "outputs": [],
   "source": [
    "surp_svd = SVD(n_factors=10, n_epochs=20, lr_all=0.005, reg_all=0.02)\n",
    "surp_pmf = SVD(n_factors=10, n_epochs=100, lr_all=0.005, biased=False)"
   ]
  },
  {
   "cell_type": "code",
   "execution_count": 24,
   "metadata": {},
   "outputs": [
    {
     "name": "stdout",
     "output_type": "stream",
     "text": [
      "Evaluating RMSE, MAE of algorithm SVD on 5 split(s).\n",
      "\n",
      "                  Fold 1  Fold 2  Fold 3  Fold 4  Fold 5  Mean    Std     \n",
      "RMSE (testset)    0.9377  0.9350  0.9477  0.9258  0.9355  0.9363  0.0070  \n",
      "MAE (testset)     0.7405  0.7375  0.7473  0.7314  0.7392  0.7392  0.0051  \n",
      "Fit time          1.99    1.86    1.86    2.17    2.29    2.03    0.17    \n",
      "Test time         0.23    0.14    0.14    0.22    0.16    0.18    0.04    \n"
     ]
    },
    {
     "data": {
      "text/plain": [
       "{'test_rmse': array([0.93769449, 0.93495498, 0.94765816, 0.92579726, 0.93545862]),\n",
       " 'test_mae': array([0.74048312, 0.73746301, 0.74731858, 0.73140319, 0.7392106 ]),\n",
       " 'fit_time': (1.9911041259765625,\n",
       "  1.8611950874328613,\n",
       "  1.8561208248138428,\n",
       "  2.1724789142608643,\n",
       "  2.2917239665985107),\n",
       " 'test_time': (0.2286241054534912,\n",
       "  0.14422106742858887,\n",
       "  0.14364194869995117,\n",
       "  0.21912789344787598,\n",
       "  0.15707921981811523)}"
      ]
     },
     "execution_count": 24,
     "metadata": {},
     "output_type": "execute_result"
    }
   ],
   "source": [
    "cross_validate(surp_svd, data, verbose=True)"
   ]
  },
  {
   "cell_type": "code",
   "execution_count": 25,
   "metadata": {},
   "outputs": [
    {
     "name": "stdout",
     "output_type": "stream",
     "text": [
      "Evaluating RMSE, MAE of algorithm SVD on 5 split(s).\n",
      "\n",
      "                  Fold 1  Fold 2  Fold 3  Fold 4  Fold 5  Mean    Std     \n",
      "RMSE (testset)    0.9641  0.9657  0.9637  0.9683  0.9718  0.9667  0.0030  \n",
      "MAE (testset)     0.7466  0.7458  0.7457  0.7536  0.7538  0.7491  0.0038  \n",
      "Fit time          9.94    9.61    10.14   10.55   10.85   10.22   0.44    \n",
      "Test time         0.21    0.21    0.12    0.26    0.13    0.19    0.05    \n"
     ]
    },
    {
     "data": {
      "text/plain": [
       "{'test_rmse': array([0.96410441, 0.96570176, 0.96367723, 0.96833408, 0.97175101]),\n",
       " 'test_mae': array([0.74656017, 0.74578546, 0.74572985, 0.75356606, 0.75381233]),\n",
       " 'fit_time': (9.937514066696167,\n",
       "  9.607587099075317,\n",
       "  10.135118961334229,\n",
       "  10.547491073608398,\n",
       "  10.853492975234985),\n",
       " 'test_time': (0.21497201919555664,\n",
       "  0.20709896087646484,\n",
       "  0.12357306480407715,\n",
       "  0.2603778839111328,\n",
       "  0.12807798385620117)}"
      ]
     },
     "execution_count": 25,
     "metadata": {},
     "output_type": "execute_result"
    }
   ],
   "source": [
    "cross_validate(surp_pmf, data, verbose=True)"
   ]
  },
  {
   "cell_type": "markdown",
   "metadata": {},
   "source": [
    "### Kernel SVD implementation"
   ]
  },
  {
   "cell_type": "code",
   "execution_count": 34,
   "metadata": {},
   "outputs": [],
   "source": [
    "transform = PolinomialTransform(degree=2)"
   ]
  },
  {
   "cell_type": "code",
   "execution_count": 35,
   "metadata": {},
   "outputs": [],
   "source": [
    "class KernelSVD(AlgoBase):\n",
    "\n",
    "    def __init__(self, transform, n_factors=3, n_epochs=20, lr=2e-3, reg_size=1e-5):\n",
    "        AlgoBase.__init__(self)\n",
    "        \n",
    "        self.n_factors = n_factors\n",
    "        self.n_epochs = n_epochs\n",
    "        self.lr = lr\n",
    "        self.reg_size = reg_size\n",
    "        self.transform = transform\n",
    "        self.jacobian = gradient(self.transform)\n",
    "        \n",
    "    def fit(self, trainset):\n",
    "        \n",
    "        AlgoBase.fit(self, trainset)\n",
    "        self.sgd(trainset)\n",
    "\n",
    "        return self\n",
    "        \n",
    "    def sgd(self, trainset):\n",
    "        \n",
    "        self.trainset = trainset\n",
    "        \n",
    "        self.p = np.random.normal(0.0, 0.1, (self.trainset.n_users, self.n_factors))\n",
    "        self.q = np.random.normal(0.0, 0.1, (self.trainset.n_items, self.n_factors))\n",
    "        \n",
    "        self.n_ratings = self.trainset.n_ratings\n",
    "        \n",
    "        for current_epoch in range(self.n_epochs):\n",
    "                        \n",
    "            for u, i, r in self.trainset.all_ratings():\n",
    "                \n",
    "                tr_users_vector = self.transform(self.p[u])\n",
    "                tr_items_vector = self.transform(self.q[i])\n",
    "                                \n",
    "                error = r - np.dot(tr_users_vector, tr_items_vector)\n",
    "                \n",
    "                self.p[u] += self.lr * error * self.jacobian(self.p[u]) @ tr_items_vector \n",
    "                self.q[i] += self.lr * error * self.jacobian(self.q[i]) @ tr_users_vector \n",
    "                    \n",
    "    def estimate(self, u, i):\n",
    "    \n",
    "        known_user = self.trainset.knows_user(u)\n",
    "        known_item = self.trainset.knows_item(i)\n",
    "        \n",
    "        if known_user and known_item:\n",
    "            return np.dot(self.transform(self.p[u]), self.transform(self.q[i]))\n",
    "        else:\n",
    "            raise PredictionImpossible('User or item are unknown')\n",
    "\n",
    "data = Dataset.load_builtin('ml-100k')\n",
    "transform = PolinomialTrannsform(degree=2)\n",
    "algo = KernelSVD(transform=transform)"
   ]
  },
  {
   "cell_type": "code",
   "execution_count": 47,
   "metadata": {},
   "outputs": [
    {
     "name": "stdout",
     "output_type": "stream",
     "text": [
      "Evaluating RMSE, MAE of algorithm KernelSVD on 5 split(s).\n",
      "\n",
      "                  Fold 1  Fold 2  Fold 3  Fold 4  Fold 5  Mean    Std     \n",
      "RMSE (testset)    0.9919  0.9733  0.9867  0.9789  0.9776  0.9817  0.0067  \n",
      "MAE (testset)     0.7752  0.7632  0.7702  0.7658  0.7639  0.7677  0.0045  \n",
      "Fit time          3099.40 3057.05 3219.62 3248.54 3248.67 3174.66 80.56   \n",
      "Test time         5.33    5.52    5.67    5.75    5.72    5.60    0.16    \n"
     ]
    }
   ],
   "source": [
    "_ = cross_validate(algo, data, verbose=True)"
   ]
  }
 ],
 "metadata": {
  "kernelspec": {
   "display_name": "Python 3",
   "language": "python",
   "name": "python3"
  },
  "language_info": {
   "codemirror_mode": {
    "name": "ipython",
    "version": 3
   },
   "file_extension": ".py",
   "mimetype": "text/x-python",
   "name": "python",
   "nbconvert_exporter": "python",
   "pygments_lexer": "ipython3",
   "version": "3.7.0"
  }
 },
 "nbformat": 4,
 "nbformat_minor": 2
}
